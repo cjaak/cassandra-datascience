{
 "cells": [
  {
   "cell_type": "code",
   "execution_count": null,
   "metadata": {},
   "outputs": [],
   "source": [
    "from cassandra.query import BatchStatement"
   ]
  },
  {
   "cell_type": "code",
   "execution_count": null,
   "metadata": {},
   "outputs": [],
   "source": [
    "CREATE TABLE IF NOT EXISTS withdrawn_student_vle (\n",
    "    id_student int,\n",
    "    code_module text,\n",
    "    code_presentation text,\n",
    "    id_site int,\n",
    "    date int,\n",
    "    sum_click int,\n",
    "    gender text,\n",
    "    region text,\n",
    "    highest_education text,\n",
    "    imd_band text,\n",
    "    age_band text,\n",
    "    num_of_prev_attempts int,\n",
    "    studied_credits int,\n",
    "    disability text,\n",
    "    final_result text,\n",
    "    has_withdrawn boolean,\n",
    "    PRIMARY KEY (id_student, code_module, code_presentation, id_site, date)\n",
    ")"
   ]
  },
  {
   "cell_type": "code",
   "execution_count": null,
   "metadata": {},
   "outputs": [],
   "source": [
    "# Abrufen der Daten von den student_info und student_vle Tabellen\n",
    "query_info = \"SELECT * FROM student_info WHERE has_withdrawn = true\"\n",
    "rows_info = session.execute(query_info)\n",
    "withdrawn_students = list(rows_info)\n",
    "\n",
    "query_vle = \"SELECT * FROM student_vle\"\n",
    "rows_vle = session.execute(query_vle)\n",
    "student_vle = list(rows_vle)"
   ]
  },
  {
   "cell_type": "code",
   "execution_count": null,
   "metadata": {},
   "outputs": [],
   "source": [
    "# Filtern der student_vle Daten, um nur die Interaktionen der Studierenden zu erhalten, die ihr Studium abgebrochen haben\n",
    "withdrawn_student_vle = [row for row in student_vle if row['id_student'] in [student['id_student'] for student in withdrawn_students]]"
   ]
  },
  {
   "cell_type": "code",
   "execution_count": null,
   "metadata": {},
   "outputs": [],
   "source": [
    "# Einfügen der Daten in die withdrawn_student_vle Tabelle mit Batch-Verarbeitung\n",
    "insert_query = \"INSERT INTO withdrawn_student_vle (id_student, code_module, code_presentation, id_site, date, sum_click) VALUES (?, ?, ?, ?, ?, ?)\"\n",
    "prepared = session.prepare(insert_query)\n"
   ]
  },
  {
   "cell_type": "code",
   "execution_count": null,
   "metadata": {},
   "outputs": [],
   "source": [
    "# Größe der zu verarbeitenden Stapel definieren\n",
    "batch_size = 100\n",
    "batches = [withdrawn_student_vle[i:i + batch_size] for i in range(0, len(withdrawn_student_vle), batch_size)]\n",
    "\n",
    "for batch in batches:\n",
    "    batch_statement = BatchStatement()\n",
    "    for row in batch:\n",
    "        batch_statement.add(prepared, (row['id_student'], row['code_module'], row['code_presentation'], row['id_site'], row['date'], row['sum_click']))\n",
    "    session.execute(batch_statement)\n"
   ]
  }
 ],
 "metadata": {
  "kernelspec": {
   "display_name": "Python 3 (ipykernel)",
   "language": "python",
   "name": "python3"
  },
  "language_info": {
   "codemirror_mode": {
    "name": "ipython",
    "version": 3
   },
   "file_extension": ".py",
   "mimetype": "text/x-python",
   "name": "python",
   "nbconvert_exporter": "python",
   "pygments_lexer": "ipython3",
   "version": "3.10.12"
  }
 },
 "nbformat": 4,
 "nbformat_minor": 2
}
