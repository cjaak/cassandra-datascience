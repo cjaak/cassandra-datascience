{
 "cells": [
  {
   "cell_type": "code",
   "execution_count": 1,
   "metadata": {},
   "outputs": [],
   "source": [
    "import pandas as pd\n",
    "from cassandra.cluster import Cluster, BatchStatement\n"
   ]
  },
  {
   "cell_type": "code",
   "execution_count": 2,
   "metadata": {},
   "outputs": [],
   "source": [
    "student_info = pd.read_csv('../data/studentInfo.csv')\n",
    "student_vle = pd.read_csv('../data/studentVle.csv')\n",
    "student_assessment = pd.read_csv('../data/studentAssessment.csv')\n",
    "student_registration = pd.read_csv('../data/studentRegistration.csv')"
   ]
  },
  {
   "cell_type": "code",
   "execution_count": 3,
   "metadata": {},
   "outputs": [],
   "source": [
    "# Data cleaning: removing lines with missing values\n",
    "student_info = student_info.dropna()\n",
    "student_vle = student_vle.dropna()\n",
    "student_assessment = student_assessment.dropna()\n",
    "studen_registration = student_registration.dropna()"
   ]
  },
  {
   "cell_type": "code",
   "execution_count": 4,
   "metadata": {},
   "outputs": [],
   "source": [
    "# Create a new column indicating whether a student has withdrawn\n",
    "student_info['has_withdrawn'] = student_info['final_result'] == 'Withdrawn'"
   ]
  },
  {
   "cell_type": "code",
   "execution_count": 5,
   "metadata": {},
   "outputs": [],
   "source": [
    "# Step 3: Create Cassandra tables\n",
    "cluster = Cluster(['cassandra'])  # connect to your Cassandra instance\n",
    "session = cluster.connect()"
   ]
  },
  {
   "cell_type": "code",
   "execution_count": 6,
   "metadata": {},
   "outputs": [],
   "source": [
    "session.execute(\"\"\"\n",
    "    CREATE KEYSPACE IF NOT EXISTS oulad \n",
    "    WITH REPLICATION = { 'class' : 'SimpleStrategy', 'replication_factor' : 1 }\n",
    "\"\"\")\n",
    "session.set_keyspace('oulad')"
   ]
  },
  {
   "cell_type": "code",
   "execution_count": 7,
   "metadata": {},
   "outputs": [
    {
     "data": {
      "text/plain": [
       "<cassandra.cluster.ResultSet at 0x7f1456daee60>"
      ]
     },
     "execution_count": 7,
     "metadata": {},
     "output_type": "execute_result"
    }
   ],
   "source": [
    "# Define table for student_info\n",
    "session.execute(\"\"\"\n",
    "    CREATE TABLE IF NOT EXISTS student_info (\n",
    "        id_student int,\n",
    "        code_module text,\n",
    "        code_presentation text,\n",
    "        gender text,\n",
    "        region text,\n",
    "        highest_education text,\n",
    "        imd_band text,\n",
    "        age_band text,\n",
    "        num_of_prev_attempts int,\n",
    "        studied_credits int,\n",
    "        disability text,\n",
    "        final_result text,\n",
    "        has_withdrawn boolean,\n",
    "        PRIMARY KEY(id_student, code_module, code_presentation)\n",
    "    )\n",
    "\"\"\")"
   ]
  },
  {
   "cell_type": "code",
   "execution_count": 8,
   "metadata": {},
   "outputs": [
    {
     "data": {
      "text/plain": [
       "<cassandra.cluster.ResultSet at 0x7f1456be2e60>"
      ]
     },
     "execution_count": 8,
     "metadata": {},
     "output_type": "execute_result"
    }
   ],
   "source": [
    "# Create table for student_vle\n",
    "session.execute(\"\"\"\n",
    "    CREATE TABLE IF NOT EXISTS student_vle (\n",
    "        code_module text,\n",
    "        code_presentation text,\n",
    "        id_student int,\n",
    "        id_site int,\n",
    "        date int,\n",
    "        sum_click int,\n",
    "        PRIMARY KEY (id_student, id_site, date)\n",
    "    )\n",
    "\"\"\")"
   ]
  },
  {
   "cell_type": "code",
   "execution_count": 9,
   "metadata": {},
   "outputs": [
    {
     "data": {
      "text/plain": [
       "<cassandra.cluster.ResultSet at 0x7f1456be1e40>"
      ]
     },
     "execution_count": 9,
     "metadata": {},
     "output_type": "execute_result"
    }
   ],
   "source": [
    "# Create table for student_assessment\n",
    "session.execute(\"\"\"\n",
    "    CREATE TABLE IF NOT EXISTS student_assessment (\n",
    "        id_assessment int,\n",
    "        id_student int,\n",
    "        date_submitted int,\n",
    "        is_banked int,\n",
    "        score int,\n",
    "        PRIMARY KEY (id_assessment, id_student)\n",
    "    )\n",
    "\"\"\")"
   ]
  },
  {
   "cell_type": "code",
   "execution_count": 10,
   "metadata": {},
   "outputs": [
    {
     "data": {
      "text/plain": [
       "<cassandra.cluster.ResultSet at 0x7f1456be2e30>"
      ]
     },
     "execution_count": 10,
     "metadata": {},
     "output_type": "execute_result"
    }
   ],
   "source": [
    "# Create table for student_registration\n",
    "session.execute(\"\"\"\n",
    "    CREATE TABLE IF NOT EXISTS student_registration (\n",
    "        code_module text,\n",
    "        code_presentation text,\n",
    "        id_student int,\n",
    "        date_registration int,\n",
    "        date_unregistration int,\n",
    "        PRIMARY KEY (code_module, code_presentation, id_student)\n",
    "    )\n",
    "\"\"\")"
   ]
  },
  {
   "cell_type": "code",
   "execution_count": 11,
   "metadata": {},
   "outputs": [],
   "source": [
    "# Function to insert data into Cassandra\n",
    "def insert_into_student_info(row):\n",
    "    prepared = session.prepare(\"INSERT INTO student_info (id_student, code_module, code_presentation, gender, region, highest_education, imd_band, age_band, num_of_prev_attempts, studied_credits, disability, final_result, has_withdrawn) VALUES (?, ?, ?, ?, ?, ?, ?, ?, ?, ?, ?, ?, ?)\")\n",
    "    session.execute(prepared, (row['id_student'], row['code_module'], row['code_presentation'], row['gender'], row['region'], row['highest_education'], row['imd_band'], row['age_band'], row['num_of_prev_attempts'], row['studied_credits'], row['disability'], row['final_result'], row['has_withdrawn']))\n",
    "\n",
    "# Function to insert data into student_vle\n",
    "def insert_into_student_vle(row):\n",
    "    prepared = session.prepare(\"INSERT INTO student_vle (code_module, code_presentation, id_student, id_site, date, sum_click) VALUES (?, ?, ?, ?, ?, ?)\")\n",
    "    session.execute(prepared, (row['code_module'], row['code_presentation'], row['id_student'], row['id_site'], row['date'], row['sum_click']))\n",
    "\n",
    "# Function to insert data into student_assessment\n",
    "def insert_into_student_assessment(row):\n",
    "    prepared = session.prepare(\"INSERT INTO student_assessment (id_assessment, id_student, date_submitted, is_banked, score) VALUES (?, ?, ?, ?, ?)\")\n",
    "    session.execute(prepared, (row['id_assessment'], row['id_student'], row['date_submitted'], row['is_banked'], row['score']))\n",
    "\n",
    "# Function to insert data into student_registration\n",
    "def insert_into_student_registration(row):\n",
    "    prepared = session.prepare(\"INSERT INTO student_registration (code_module, code_presentation, id_student, date_registration, date_unregistration) VALUES (?, ?, ?, ?, ?)\")\n",
    "    session.execute(prepared, (row['code_module'], row['code_presentation'], row['id_student'], row['date_registration'], row['date_unregistration']))"
   ]
  },
  {
   "cell_type": "code",
   "execution_count": 12,
   "metadata": {
    "scrolled": true
   },
   "outputs": [
    {
     "data": {
      "text/plain": [
       "0        None\n",
       "1        None\n",
       "2        None\n",
       "3        None\n",
       "4        None\n",
       "         ... \n",
       "32588    None\n",
       "32589    None\n",
       "32590    None\n",
       "32591    None\n",
       "32592    None\n",
       "Length: 31482, dtype: object"
      ]
     },
     "execution_count": 12,
     "metadata": {},
     "output_type": "execute_result"
    }
   ],
   "source": [
    "# Insert data into Cassandra using apply function\n",
    "student_info.apply(insert_into_student_info, axis=1)"
   ]
  },
  {
   "cell_type": "code",
   "execution_count": null,
   "metadata": {},
   "outputs": [],
   "source": [
    "student_vle.apply(insert_into_student_vle, axis=1)"
   ]
  },
  {
   "cell_type": "code",
   "execution_count": null,
   "metadata": {},
   "outputs": [],
   "source": [
    "student_assessment.apply(insert_into_student_assessment, axis=1)"
   ]
  },
  {
   "cell_type": "code",
   "execution_count": null,
   "metadata": {},
   "outputs": [],
   "source": [
    "student_registration.apply(insert_into_student_registration, axis=1)"
   ]
  },
  {
   "cell_type": "code",
   "execution_count": null,
   "metadata": {},
   "outputs": [],
   "source": [
    "# # Create table for student_vle\n",
    "# session.execute(\"\"\"\n",
    "#     CREATE TABLE IF NOT EXISTS student_vle (\n",
    "#         code_module text,\n",
    "#         code_presentation text,\n",
    "#         id_student int,\n",
    "#         id_site int,\n",
    "#         date int,\n",
    "#         sum_click int,\n",
    "#         PRIMARY KEY (id_student, id_site, date)\n",
    "#     )\n",
    "# \"\"\")\n",
    "\n",
    "# def insert_into_student_vle(row):\n",
    "#     prepared = session.prepare(\"INSERT INTO student_vle (code_module, code_presentation, id_student, id_site, date, sum_click) VALUES (?, ?, ?, ?, ?, ?)\")\n",
    "#     session.execute(prepared, (row['code_module'], row['code_presentation'], row['id_student'], row['id_site'], row['date'], row['sum_click']))\n",
    "    \n",
    "    \n",
    "# student_vle.apply(insert_into_student_vle, axis=1)"
   ]
  },
  {
   "cell_type": "code",
   "execution_count": null,
   "metadata": {},
   "outputs": [],
   "source": [
    "# # Create table for student_assessment\n",
    "# session.execute(\"\"\"\n",
    "#     CREATE TABLE IF NOT EXISTS student_assessment (\n",
    "#         id_assessment int,\n",
    "#         id_student int,\n",
    "#         date_submitted int,\n",
    "#         is_banked int,\n",
    "#         score int,\n",
    "#         PRIMARY KEY (id_assessment, id_student)\n",
    "#     )\n",
    "# \"\"\")\n",
    "\n",
    "# # Function to insert data into student_assessment\n",
    "# def insert_into_student_assessment(row):\n",
    "#     prepared = session.prepare(\"INSERT INTO student_assessment (id_assessment, id_student, date_submitted, is_banked, score) VALUES (?, ?, ?, ?, ?)\")\n",
    "#     session.execute(prepared, (row['id_assessment'], row['id_student'], row['date_submitted'], row['is_banked'], row['score']))\n",
    "    \n",
    "# student_assessment.apply(insert_into_student_assessment, axis=1)"
   ]
  },
  {
   "cell_type": "code",
   "execution_count": null,
   "metadata": {},
   "outputs": [],
   "source": [
    "# # Create table for student_registration\n",
    "# session.execute(\"\"\"\n",
    "#     CREATE TABLE IF NOT EXISTS student_registration (\n",
    "#         code_module text,\n",
    "#         code_presentation text,\n",
    "#         id_student int,\n",
    "#         date_registration int,\n",
    "#         date_unregistration int,\n",
    "#         PRIMARY KEY (code_module, code_presentation, id_student)\n",
    "#     )\n",
    "# \"\"\")\n",
    "\n",
    "# # Function to insert data into student_registration\n",
    "# def insert_into_student_registration(row):\n",
    "#     prepared = session.prepare(\"INSERT INTO student_registration (code_module, code_presentation, id_student, date_registration, date_unregistration) VALUES (?, ?, ?, ?, ?)\")\n",
    "#     session.execute(prepared, (row['code_module'], row['code_presentation'], row['id_student'], row['date_registration'], row['date_unregistration']))\n",
    "    \n",
    "# student_registration.apply(insert_into_student_registration, axis=1) \n"
   ]
  },
  {
   "cell_type": "code",
   "execution_count": null,
   "metadata": {},
   "outputs": [],
   "source": [
    "# Create table\n",
    "session.execute(\"\"\"\n",
    "    CREATE TABLE IF NOT EXISTS student_vle_withdrawn (\n",
    "        id_student int,\n",
    "        code_module text,\n",
    "        code_presentation text,\n",
    "        id_site int,\n",
    "        date int,\n",
    "        sum_click int,\n",
    "        has_withdrawn boolean,\n",
    "        PRIMARY KEY (id_student, code_module, code_presentation, id_site, date)\n",
    "    )\n",
    "\"\"\")\n",
    "\n",
    "# Merge two dataframes\n",
    "merged_data = pd.merge(student_vle, student_info[['id_student', 'code_module', 'code_presentation', 'final_result']], on=['id_student', 'code_module', 'code_presentation'], how='left')\n",
    "merged_data['has_withdrawn'] = merged_data['final_result'] == 'Withdrawn'\n",
    "\n",
    "# Filter merged_data for withdrawn students\n",
    "withdrawn_student_data = merged_data[merged_data['has_withdrawn']]\n",
    "\n",
    "# Insert data into table\n",
    "batch = BatchStatement()\n",
    "query = session.prepare(\"\"\"\n",
    "    INSERT INTO student_vle_withdrawn (id_student, code_module, code_presentation, id_site, date, sum_click, has_withdrawn)\n",
    "    VALUES (?, ?, ?, ?, ?, ?, ?)\n",
    "\"\"\")\n",
    "\n",
    "for _, row in withdrawn_student_data.iterrows():\n",
    "    batch.add(query, (int(row['id_student']), row['code_module'], row['code_presentation'], int(row['id_site']), int(row['date']), int(row['sum_click']), bool(row['has_withdrawn'])))\n",
    "    if len(batch) == 50:  # Execute every 50 statements\n",
    "        session.execute(batch)\n",
    "        batch.clear()\n",
    "\n",
    "# Execute the rest of the batch\n",
    "if len(batch) > 0:\n",
    "    session.execute(batch)\n"
   ]
  },
  {
   "cell_type": "code",
   "execution_count": null,
   "metadata": {},
   "outputs": [],
   "source": [
    "# Close the connection\n",
    "cluster.shutdown()"
   ]
  }
 ],
 "metadata": {
  "kernelspec": {
   "display_name": "Python 3 (ipykernel)",
   "language": "python",
   "name": "python3"
  },
  "language_info": {
   "codemirror_mode": {
    "name": "ipython",
    "version": 3
   },
   "file_extension": ".py",
   "mimetype": "text/x-python",
   "name": "python",
   "nbconvert_exporter": "python",
   "pygments_lexer": "ipython3",
   "version": "3.10.12"
  }
 },
 "nbformat": 4,
 "nbformat_minor": 2
}
